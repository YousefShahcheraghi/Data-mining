{
 "cells": [
  {
   "cell_type": "code",
   "execution_count": 1,
   "id": "91ed62ea",
   "metadata": {},
   "outputs": [],
   "source": [
    "import numpy as np"
   ]
  },
  {
   "cell_type": "code",
   "execution_count": 19,
   "id": "69f667e6",
   "metadata": {},
   "outputs": [],
   "source": [
    "#data=[1,2,1,2,3,1,2,5,52,3,2,3,1,-1,-4,-65,1,3,2,8,-5,-2,450]\n",
    "data=[1,2,1,2,3,1,2,1,520,3,2,3,1,-1,-4,300,1,3,2,8,-1,-2,4,5,0]"
   ]
  },
  {
   "cell_type": "code",
   "execution_count": 20,
   "id": "e4838bb0",
   "metadata": {},
   "outputs": [
    {
     "data": {
      "text/plain": [
       "(115.10187487612876, 34.28)"
      ]
     },
     "execution_count": 20,
     "metadata": {},
     "output_type": "execute_result"
    }
   ],
   "source": [
    "m=np.mean(data)\n",
    "s=np.std(data)\n",
    "s,m"
   ]
  },
  {
   "cell_type": "code",
   "execution_count": 22,
   "id": "d8d5ab9f",
   "metadata": {},
   "outputs": [
    {
     "name": "stdout",
     "output_type": "stream",
     "text": [
      "520 is noise\n",
      "300 is noise\n"
     ]
    }
   ],
   "source": [
    "for val in data:\n",
    "    if (abs(val-m)/s) > 2:\n",
    "        print(val ,'is noise')"
   ]
  },
  {
   "cell_type": "code",
   "execution_count": 5,
   "id": "470ad89f",
   "metadata": {},
   "outputs": [],
   "source": [
    "z_score= [ (d-m)/s for d in data]"
   ]
  },
  {
   "cell_type": "code",
   "execution_count": 6,
   "id": "bd0c6e1e",
   "metadata": {},
   "outputs": [],
   "source": [
    "X=np.where(np.abs(z_score)>3)"
   ]
  },
  {
   "cell_type": "code",
   "execution_count": 7,
   "id": "651dad21",
   "metadata": {},
   "outputs": [
    {
     "data": {
      "text/plain": [
       "(array([8], dtype=int64),)"
      ]
     },
     "execution_count": 7,
     "metadata": {},
     "output_type": "execute_result"
    }
   ],
   "source": [
    "X"
   ]
  },
  {
   "cell_type": "code",
   "execution_count": 8,
   "id": "83276f34",
   "metadata": {},
   "outputs": [],
   "source": [
    "q1 , q3 = np.percentile(data, [25,75])"
   ]
  },
  {
   "cell_type": "code",
   "execution_count": 9,
   "id": "5dd1375c",
   "metadata": {},
   "outputs": [
    {
     "data": {
      "text/plain": [
       "(1.0, 3.0)"
      ]
     },
     "execution_count": 9,
     "metadata": {},
     "output_type": "execute_result"
    }
   ],
   "source": [
    "q1,q3"
   ]
  },
  {
   "cell_type": "code",
   "execution_count": 10,
   "id": "7a0193b5",
   "metadata": {},
   "outputs": [],
   "source": [
    "iqr=q3-q1"
   ]
  },
  {
   "cell_type": "code",
   "execution_count": 11,
   "id": "74e1da40",
   "metadata": {},
   "outputs": [],
   "source": [
    "lb= q1-(iqr*3)\n",
    "ub=q3 + (iqr*3)"
   ]
  },
  {
   "cell_type": "code",
   "execution_count": 12,
   "id": "7e8bf275",
   "metadata": {},
   "outputs": [
    {
     "name": "stdout",
     "output_type": "stream",
     "text": [
      "5200 is noise\n",
      "100 is noise\n"
     ]
    }
   ],
   "source": [
    "for val in data:\n",
    "    if (val>ub) or (val<lb):\n",
    "        print(val , 'is noise')"
   ]
  },
  {
   "cell_type": "code",
   "execution_count": null,
   "id": "8c40b727",
   "metadata": {},
   "outputs": [],
   "source": []
  }
 ],
 "metadata": {
  "kernelspec": {
   "display_name": "Python 3 (ipykernel)",
   "language": "python",
   "name": "python3"
  },
  "language_info": {
   "codemirror_mode": {
    "name": "ipython",
    "version": 3
   },
   "file_extension": ".py",
   "mimetype": "text/x-python",
   "name": "python",
   "nbconvert_exporter": "python",
   "pygments_lexer": "ipython3",
   "version": "3.9.12"
  }
 },
 "nbformat": 4,
 "nbformat_minor": 5
}
