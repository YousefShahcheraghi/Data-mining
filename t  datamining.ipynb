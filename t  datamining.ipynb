{
 "cells": [
  {
   "cell_type": "code",
   "execution_count": 1,
   "id": "91ed62ea",
   "metadata": {},
   "outputs": [],
   "source": [
    "import numpy as np\n",
    "import pandas as pd"
   ]
  },
  {
   "cell_type": "code",
   "execution_count": 5,
   "id": "69f667e6",
   "metadata": {},
   "outputs": [
    {
     "data": {
      "text/html": [
       "<div>\n",
       "<style scoped>\n",
       "    .dataframe tbody tr th:only-of-type {\n",
       "        vertical-align: middle;\n",
       "    }\n",
       "\n",
       "    .dataframe tbody tr th {\n",
       "        vertical-align: top;\n",
       "    }\n",
       "\n",
       "    .dataframe thead th {\n",
       "        text-align: right;\n",
       "    }\n",
       "</style>\n",
       "<table border=\"1\" class=\"dataframe\">\n",
       "  <thead>\n",
       "    <tr style=\"text-align: right;\">\n",
       "      <th></th>\n",
       "      <th>id</th>\n",
       "      <th>name</th>\n",
       "      <th>family</th>\n",
       "      <th>father name</th>\n",
       "      <th>code</th>\n",
       "      <th>section</th>\n",
       "      <th>post</th>\n",
       "      <th>degree</th>\n",
       "      <th>age</th>\n",
       "      <th>date of employ</th>\n",
       "      <th>descript</th>\n",
       "    </tr>\n",
       "  </thead>\n",
       "  <tbody>\n",
       "    <tr>\n",
       "      <th>0</th>\n",
       "      <td>2283691475</td>\n",
       "      <td>جعفر</td>\n",
       "      <td>منصوری</td>\n",
       "      <td>صادق</td>\n",
       "      <td>65340</td>\n",
       "      <td>امور اداری</td>\n",
       "      <td>مدیر بخش امور اداری</td>\n",
       "      <td>فوق لیسانس</td>\n",
       "      <td>44</td>\n",
       "      <td>1379</td>\n",
       "      <td>انتخاب شده در تاریخ 5/1389 به عنوان کارمند نمونه</td>\n",
       "    </tr>\n",
       "    <tr>\n",
       "      <th>1</th>\n",
       "      <td>2281479635</td>\n",
       "      <td>جواد</td>\n",
       "      <td>منصوری</td>\n",
       "      <td>صادق</td>\n",
       "      <td>65341</td>\n",
       "      <td>امور اداری</td>\n",
       "      <td>معاونت بخش اداری</td>\n",
       "      <td>لیسانس</td>\n",
       "      <td>46</td>\n",
       "      <td>1379</td>\n",
       "      <td>انتخاب شده در تاریخ 6/1389 به عنوان کارمند نمونه</td>\n",
       "    </tr>\n",
       "    <tr>\n",
       "      <th>2</th>\n",
       "      <td>2274569513</td>\n",
       "      <td>صادق</td>\n",
       "      <td>منصوری</td>\n",
       "      <td>نادر</td>\n",
       "      <td>64075</td>\n",
       "      <td>منابع انسانی</td>\n",
       "      <td>مدیر بخش منابع انسانی</td>\n",
       "      <td>فوق لیسانس</td>\n",
       "      <td>65</td>\n",
       "      <td>1370</td>\n",
       "      <td>انتخاب شده در تاریخ 12/1379 به عنوان کارمند نمونه</td>\n",
       "    </tr>\n",
       "    <tr>\n",
       "      <th>3</th>\n",
       "      <td>2289736120</td>\n",
       "      <td>اعضم</td>\n",
       "      <td>تهرانی</td>\n",
       "      <td>تیمور</td>\n",
       "      <td>64076</td>\n",
       "      <td>منابع انسانی</td>\n",
       "      <td>معاونت بخش منابع انسانی</td>\n",
       "      <td>لیسانس</td>\n",
       "      <td>63</td>\n",
       "      <td>1371</td>\n",
       "      <td>انتخاب شده در تاریخ 10/1374 به عنوان کارمند نمونه</td>\n",
       "    </tr>\n",
       "    <tr>\n",
       "      <th>4</th>\n",
       "      <td>2281496590</td>\n",
       "      <td>کیوان</td>\n",
       "      <td>امیری</td>\n",
       "      <td>مراد</td>\n",
       "      <td>65400</td>\n",
       "      <td>مالی</td>\n",
       "      <td>مدیریت بخش مالی</td>\n",
       "      <td>فوق لیسانس</td>\n",
       "      <td>430</td>\n",
       "      <td>1378</td>\n",
       "      <td>انتخاب شده در تاریخ 8/1391 به عنوان کارمند نمونه</td>\n",
       "    </tr>\n",
       "    <tr>\n",
       "      <th>5</th>\n",
       "      <td>2283469237</td>\n",
       "      <td>هدیه</td>\n",
       "      <td>زمانی</td>\n",
       "      <td>میثم</td>\n",
       "      <td>65373</td>\n",
       "      <td>مالی</td>\n",
       "      <td>معاونت بخش مالی</td>\n",
       "      <td>لیسانس</td>\n",
       "      <td>39</td>\n",
       "      <td>1382</td>\n",
       "      <td>انتخاب شده در تاریخ 9/1391 به عنوان کارمند نمونه</td>\n",
       "    </tr>\n",
       "    <tr>\n",
       "      <th>6</th>\n",
       "      <td>5412689851</td>\n",
       "      <td>سعیده</td>\n",
       "      <td>امیرساعی</td>\n",
       "      <td>حاتم</td>\n",
       "      <td>67002</td>\n",
       "      <td>امور اداری</td>\n",
       "      <td>کارمند کارگزینی</td>\n",
       "      <td>فوق دیپلم</td>\n",
       "      <td>410</td>\n",
       "      <td>1380</td>\n",
       "      <td>انتخاب شده در تاریخ 9/1386 به عنوان کارمند نمونه</td>\n",
       "    </tr>\n",
       "    <tr>\n",
       "      <th>7</th>\n",
       "      <td>2278456329</td>\n",
       "      <td>معصومه</td>\n",
       "      <td>کریمی</td>\n",
       "      <td>مسعود</td>\n",
       "      <td>66443</td>\n",
       "      <td>امور اداری</td>\n",
       "      <td>کارمند کارگزینی</td>\n",
       "      <td>فوق دیپلم</td>\n",
       "      <td>42</td>\n",
       "      <td>1380</td>\n",
       "      <td>انتخاب شده در تاریخ 7/1389 به عنوان کارمند نمونه</td>\n",
       "    </tr>\n",
       "    <tr>\n",
       "      <th>8</th>\n",
       "      <td>2272263674</td>\n",
       "      <td>خسرو</td>\n",
       "      <td>حیدری</td>\n",
       "      <td>منصور</td>\n",
       "      <td>62222</td>\n",
       "      <td>منابع انسانی</td>\n",
       "      <td>کارمند بخش منابع انسانی</td>\n",
       "      <td>فوق دیپلم</td>\n",
       "      <td>46</td>\n",
       "      <td>1377</td>\n",
       "      <td>انتخاب شده در تاریخ 2/1388 به عنوان کارمند نمونه</td>\n",
       "    </tr>\n",
       "    <tr>\n",
       "      <th>9</th>\n",
       "      <td>2268459318</td>\n",
       "      <td>بهزاد</td>\n",
       "      <td>غلامپور</td>\n",
       "      <td>نصیر</td>\n",
       "      <td>62222</td>\n",
       "      <td>منابع انسانی</td>\n",
       "      <td>کارمند بخش منابع انسانی</td>\n",
       "      <td>فوق دیپلم</td>\n",
       "      <td>550</td>\n",
       "      <td>1370</td>\n",
       "      <td>انتخاب شده در تاریخ 3/1388 به عنوان کارمند نمونه</td>\n",
       "    </tr>\n",
       "    <tr>\n",
       "      <th>10</th>\n",
       "      <td>2272286420</td>\n",
       "      <td>مصطفی</td>\n",
       "      <td>کریمی</td>\n",
       "      <td>حیدر</td>\n",
       "      <td>69863</td>\n",
       "      <td>منابع انسانی</td>\n",
       "      <td>کارمند بخش منابع انسانی</td>\n",
       "      <td>فوق دیپلم</td>\n",
       "      <td>51</td>\n",
       "      <td>1374</td>\n",
       "      <td>انتخاب شده در تاریخ 4/1388 به عنوان کارمند نمونه</td>\n",
       "    </tr>\n",
       "    <tr>\n",
       "      <th>11</th>\n",
       "      <td>2272265554</td>\n",
       "      <td>محمود</td>\n",
       "      <td>فکری</td>\n",
       "      <td>امیر محمد</td>\n",
       "      <td>62340</td>\n",
       "      <td>منابع انسانی</td>\n",
       "      <td>کارمند بخش منابع انسانی</td>\n",
       "      <td>فوق دیپلم</td>\n",
       "      <td>63</td>\n",
       "      <td>1368</td>\n",
       "      <td>انتخاب شده در تاریخ 5/1388 به عنوان کارمند نمونه</td>\n",
       "    </tr>\n",
       "    <tr>\n",
       "      <th>12</th>\n",
       "      <td>2285932657</td>\n",
       "      <td>فرزاد</td>\n",
       "      <td>مجیدی</td>\n",
       "      <td>منصور</td>\n",
       "      <td>74444</td>\n",
       "      <td>پشتبانی</td>\n",
       "      <td>مدیریت بخش پشتیبانی</td>\n",
       "      <td>فوق لیسانس</td>\n",
       "      <td>45</td>\n",
       "      <td>1375</td>\n",
       "      <td>انتخاب شده در تاریخ 4/1377 به عنوان کارمند نمونه</td>\n",
       "    </tr>\n",
       "    <tr>\n",
       "      <th>13</th>\n",
       "      <td>2276536318</td>\n",
       "      <td>مجتبی</td>\n",
       "      <td>جباری</td>\n",
       "      <td>کاظم</td>\n",
       "      <td>74201</td>\n",
       "      <td>پشتبانی</td>\n",
       "      <td>کارمند بخش پشتیبانی</td>\n",
       "      <td>لیسانس</td>\n",
       "      <td>-44</td>\n",
       "      <td>1375</td>\n",
       "      <td>انتخاب شده در تاریخ 5/1377 به عنوان کارمند نمونه</td>\n",
       "    </tr>\n",
       "    <tr>\n",
       "      <th>14</th>\n",
       "      <td>2277777777</td>\n",
       "      <td>فرهاد</td>\n",
       "      <td>مجیدی</td>\n",
       "      <td>منصور</td>\n",
       "      <td>77777</td>\n",
       "      <td>آموزش</td>\n",
       "      <td>میدریت بخش آموزش</td>\n",
       "      <td>دکترا</td>\n",
       "      <td>47</td>\n",
       "      <td>1372</td>\n",
       "      <td>انتخاب شده در تاریخ 2/1375 به عنوان کارمند نمونه</td>\n",
       "    </tr>\n",
       "    <tr>\n",
       "      <th>15</th>\n",
       "      <td>2272764777</td>\n",
       "      <td>مهدی</td>\n",
       "      <td>امیرآبادی</td>\n",
       "      <td>داریوش</td>\n",
       "      <td>63343</td>\n",
       "      <td>آموزش</td>\n",
       "      <td>کارمند بخش آموزش</td>\n",
       "      <td>فوق دیپلم</td>\n",
       "      <td>-46</td>\n",
       "      <td>1372</td>\n",
       "      <td>انتخاب شده در تاریخ 3/1375 به عنوان کارمند نمونه</td>\n",
       "    </tr>\n",
       "  </tbody>\n",
       "</table>\n",
       "</div>"
      ],
      "text/plain": [
       "            id    name     family father name   code       section  \\\n",
       "0   2283691475    جعفر     منصوری        صادق  65340    امور اداری   \n",
       "1   2281479635    جواد     منصوری        صادق  65341    امور اداری   \n",
       "2   2274569513    صادق     منصوری        نادر  64075  منابع انسانی   \n",
       "3   2289736120    اعضم     تهرانی       تیمور  64076  منابع انسانی   \n",
       "4   2281496590   کیوان      امیری        مراد  65400          مالی   \n",
       "5   2283469237    هدیه      زمانی        میثم  65373          مالی   \n",
       "6   5412689851   سعیده   امیرساعی        حاتم  67002    امور اداری   \n",
       "7   2278456329  معصومه      کریمی       مسعود  66443    امور اداری   \n",
       "8   2272263674    خسرو      حیدری       منصور  62222  منابع انسانی   \n",
       "9   2268459318   بهزاد    غلامپور        نصیر  62222  منابع انسانی   \n",
       "10  2272286420   مصطفی      کریمی        حیدر  69863  منابع انسانی   \n",
       "11  2272265554   محمود       فکری   امیر محمد  62340  منابع انسانی   \n",
       "12  2285932657   فرزاد      مجیدی       منصور  74444       پشتبانی   \n",
       "13  2276536318   مجتبی      جباری        کاظم  74201       پشتبانی   \n",
       "14  2277777777   فرهاد      مجیدی       منصور  77777         آموزش   \n",
       "15  2272764777    مهدی  امیرآبادی      داریوش  63343         آموزش   \n",
       "\n",
       "                       post      degree  age  date of employ  \\\n",
       "0       مدیر بخش امور اداری  فوق لیسانس   44            1379   \n",
       "1          معاونت بخش اداری      لیسانس   46            1379   \n",
       "2     مدیر بخش منابع انسانی  فوق لیسانس   65            1370   \n",
       "3   معاونت بخش منابع انسانی      لیسانس   63            1371   \n",
       "4           مدیریت بخش مالی  فوق لیسانس  430            1378   \n",
       "5           معاونت بخش مالی      لیسانس   39            1382   \n",
       "6           کارمند کارگزینی   فوق دیپلم  410            1380   \n",
       "7           کارمند کارگزینی   فوق دیپلم   42            1380   \n",
       "8   کارمند بخش منابع انسانی   فوق دیپلم   46            1377   \n",
       "9   کارمند بخش منابع انسانی   فوق دیپلم  550            1370   \n",
       "10  کارمند بخش منابع انسانی   فوق دیپلم   51            1374   \n",
       "11  کارمند بخش منابع انسانی   فوق دیپلم   63            1368   \n",
       "12      مدیریت بخش پشتیبانی  فوق لیسانس   45            1375   \n",
       "13      کارمند بخش پشتیبانی      لیسانس  -44            1375   \n",
       "14         میدریت بخش آموزش       دکترا   47            1372   \n",
       "15         کارمند بخش آموزش   فوق دیپلم  -46            1372   \n",
       "\n",
       "                                             descript  \n",
       "0    انتخاب شده در تاریخ 5/1389 به عنوان کارمند نمونه  \n",
       "1    انتخاب شده در تاریخ 6/1389 به عنوان کارمند نمونه  \n",
       "2   انتخاب شده در تاریخ 12/1379 به عنوان کارمند نمونه  \n",
       "3   انتخاب شده در تاریخ 10/1374 به عنوان کارمند نمونه  \n",
       "4    انتخاب شده در تاریخ 8/1391 به عنوان کارمند نمونه  \n",
       "5    انتخاب شده در تاریخ 9/1391 به عنوان کارمند نمونه  \n",
       "6    انتخاب شده در تاریخ 9/1386 به عنوان کارمند نمونه  \n",
       "7    انتخاب شده در تاریخ 7/1389 به عنوان کارمند نمونه  \n",
       "8    انتخاب شده در تاریخ 2/1388 به عنوان کارمند نمونه  \n",
       "9    انتخاب شده در تاریخ 3/1388 به عنوان کارمند نمونه  \n",
       "10   انتخاب شده در تاریخ 4/1388 به عنوان کارمند نمونه  \n",
       "11   انتخاب شده در تاریخ 5/1388 به عنوان کارمند نمونه  \n",
       "12   انتخاب شده در تاریخ 4/1377 به عنوان کارمند نمونه  \n",
       "13   انتخاب شده در تاریخ 5/1377 به عنوان کارمند نمونه  \n",
       "14   انتخاب شده در تاریخ 2/1375 به عنوان کارمند نمونه  \n",
       "15   انتخاب شده در تاریخ 3/1375 به عنوان کارمند نمونه  "
      ]
     },
     "execution_count": 5,
     "metadata": {},
     "output_type": "execute_result"
    }
   ],
   "source": [
    "data=pd.read_excel('Test.xlsx')\n",
    "data"
   ]
  },
  {
   "cell_type": "code",
   "execution_count": 8,
   "id": "e4838bb0",
   "metadata": {},
   "outputs": [
    {
     "data": {
      "text/plain": [
       "(172.0947118413288, 115.6875)"
      ]
     },
     "execution_count": 8,
     "metadata": {},
     "output_type": "execute_result"
    }
   ],
   "source": [
    "m=np.mean(data.age)\n",
    "s=np.std(data.age)\n",
    "s,m"
   ]
  },
  {
   "cell_type": "code",
   "execution_count": 9,
   "id": "d8d5ab9f",
   "metadata": {},
   "outputs": [
    {
     "name": "stdout",
     "output_type": "stream",
     "text": [
      "550 is noise\n"
     ]
    }
   ],
   "source": [
    "for val in data.age:\n",
    "    if (abs(val-m)/s) > 2:\n",
    "        print(val ,'is noise')"
   ]
  },
  {
   "cell_type": "code",
   "execution_count": 5,
   "id": "470ad89f",
   "metadata": {},
   "outputs": [],
   "source": [
    "z_score= [ (d-m)/s for d in data.age]"
   ]
  },
  {
   "cell_type": "code",
   "execution_count": 6,
   "id": "bd0c6e1e",
   "metadata": {},
   "outputs": [],
   "source": [
    "X=np.where(np.abs(z_score)>2)"
   ]
  },
  {
   "cell_type": "code",
   "execution_count": 7,
   "id": "651dad21",
   "metadata": {},
   "outputs": [
    {
     "data": {
      "text/plain": [
       "(array([9], dtype=int64),)"
      ]
     },
     "execution_count": 7,
     "metadata": {},
     "output_type": "execute_result"
    }
   ],
   "source": [
    "X"
   ]
  },
  {
   "cell_type": "code",
   "execution_count": 8,
   "id": "83276f34",
   "metadata": {},
   "outputs": [],
   "source": [
    "q1 , q3 = np.percentile(data.age, [25,75])"
   ]
  },
  {
   "cell_type": "code",
   "execution_count": 9,
   "id": "5dd1375c",
   "metadata": {},
   "outputs": [
    {
     "data": {
      "text/plain": [
       "(43.5, 63.5)"
      ]
     },
     "execution_count": 9,
     "metadata": {},
     "output_type": "execute_result"
    }
   ],
   "source": [
    "q1,q3"
   ]
  },
  {
   "cell_type": "code",
   "execution_count": 10,
   "id": "7a0193b5",
   "metadata": {},
   "outputs": [],
   "source": [
    "iqr=q3-q1"
   ]
  },
  {
   "cell_type": "code",
   "execution_count": 12,
   "id": "74e1da40",
   "metadata": {},
   "outputs": [],
   "source": [
    "lb= q1-(iqr*3)\n",
    "ub=q3 + (iqr*3)"
   ]
  },
  {
   "cell_type": "code",
   "execution_count": 60,
   "id": "7e8bf275",
   "metadata": {},
   "outputs": [
    {
     "name": "stdout",
     "output_type": "stream",
     "text": [
      "430 is noise\n",
      "410 is noise\n",
      "550 is noise\n",
      "-44 is noise\n",
      "-46 is noise\n"
     ]
    }
   ],
   "source": [
    "for val in data.age:\n",
    "    if (val>ub) or (val<lb):\n",
    "        print(val , 'is noise')"
   ]
  },
  {
   "cell_type": "code",
   "execution_count": 17,
   "id": "8c40b727",
   "metadata": {},
   "outputs": [
    {
     "ename": "KeyError",
     "evalue": "'data.age'",
     "output_type": "error",
     "traceback": [
      "\u001b[1;31m---------------------------------------------------------------------------\u001b[0m",
      "\u001b[1;31mKeyError\u001b[0m                                  Traceback (most recent call last)",
      "Input \u001b[1;32mIn [17]\u001b[0m, in \u001b[0;36m<cell line: 1>\u001b[1;34m()\u001b[0m\n\u001b[1;32m----> 1\u001b[0m out \u001b[38;5;241m=\u001b[39m(\u001b[43mdata\u001b[49m\u001b[38;5;241;43m.\u001b[39;49m\u001b[43mage\u001b[49m\u001b[43m[\u001b[49m\u001b[38;5;124;43m'\u001b[39;49m\u001b[38;5;124;43mdata.age\u001b[39;49m\u001b[38;5;124;43m'\u001b[39;49m\u001b[43m]\u001b[49m\u001b[38;5;241m<\u001b[39m(q1\u001b[38;5;241m-\u001b[39m\u001b[38;5;241m1.5\u001b[39m\u001b[38;5;241m*\u001b[39miqr) \u001b[38;5;129;01mor\u001b[39;00m (data\u001b[38;5;241m.\u001b[39mage[\u001b[38;5;124m'\u001b[39m\u001b[38;5;124mdata.age\u001b[39m\u001b[38;5;124m'\u001b[39m]\u001b[38;5;241m>\u001b[39mq3\u001b[38;5;241m+\u001b[39m\u001b[38;5;241m1.5\u001b[39m\u001b[38;5;241m*\u001b[39miqr))\n\u001b[0;32m      2\u001b[0m data_cleaned\u001b[38;5;241m=\u001b[39mdata\u001b[38;5;241m.\u001b[39mage\u001b[38;5;241m.\u001b[39mdrop(data[out]\u001b[38;5;241m.\u001b[39mindex)\n\u001b[0;32m      3\u001b[0m \u001b[38;5;28mprint\u001b[39m(\u001b[38;5;124m\"\u001b[39m\u001b[38;5;124mxxxxxxxxxxxx\u001b[39m\u001b[38;5;124m\"\u001b[39m)\n",
      "File \u001b[1;32m~\\anaconda3\\lib\\site-packages\\pandas\\core\\series.py:958\u001b[0m, in \u001b[0;36mSeries.__getitem__\u001b[1;34m(self, key)\u001b[0m\n\u001b[0;32m    955\u001b[0m     \u001b[38;5;28;01mreturn\u001b[39;00m \u001b[38;5;28mself\u001b[39m\u001b[38;5;241m.\u001b[39m_values[key]\n\u001b[0;32m    957\u001b[0m \u001b[38;5;28;01melif\u001b[39;00m key_is_scalar:\n\u001b[1;32m--> 958\u001b[0m     \u001b[38;5;28;01mreturn\u001b[39;00m \u001b[38;5;28;43mself\u001b[39;49m\u001b[38;5;241;43m.\u001b[39;49m\u001b[43m_get_value\u001b[49m\u001b[43m(\u001b[49m\u001b[43mkey\u001b[49m\u001b[43m)\u001b[49m\n\u001b[0;32m    960\u001b[0m \u001b[38;5;28;01mif\u001b[39;00m is_hashable(key):\n\u001b[0;32m    961\u001b[0m     \u001b[38;5;66;03m# Otherwise index.get_value will raise InvalidIndexError\u001b[39;00m\n\u001b[0;32m    962\u001b[0m     \u001b[38;5;28;01mtry\u001b[39;00m:\n\u001b[0;32m    963\u001b[0m         \u001b[38;5;66;03m# For labels that don't resolve as scalars like tuples and frozensets\u001b[39;00m\n",
      "File \u001b[1;32m~\\anaconda3\\lib\\site-packages\\pandas\\core\\series.py:1069\u001b[0m, in \u001b[0;36mSeries._get_value\u001b[1;34m(self, label, takeable)\u001b[0m\n\u001b[0;32m   1066\u001b[0m     \u001b[38;5;28;01mreturn\u001b[39;00m \u001b[38;5;28mself\u001b[39m\u001b[38;5;241m.\u001b[39m_values[label]\n\u001b[0;32m   1068\u001b[0m \u001b[38;5;66;03m# Similar to Index.get_value, but we do not fall back to positional\u001b[39;00m\n\u001b[1;32m-> 1069\u001b[0m loc \u001b[38;5;241m=\u001b[39m \u001b[38;5;28;43mself\u001b[39;49m\u001b[38;5;241;43m.\u001b[39;49m\u001b[43mindex\u001b[49m\u001b[38;5;241;43m.\u001b[39;49m\u001b[43mget_loc\u001b[49m\u001b[43m(\u001b[49m\u001b[43mlabel\u001b[49m\u001b[43m)\u001b[49m\n\u001b[0;32m   1070\u001b[0m \u001b[38;5;28;01mreturn\u001b[39;00m \u001b[38;5;28mself\u001b[39m\u001b[38;5;241m.\u001b[39mindex\u001b[38;5;241m.\u001b[39m_get_values_for_loc(\u001b[38;5;28mself\u001b[39m, loc, label)\n",
      "File \u001b[1;32m~\\anaconda3\\lib\\site-packages\\pandas\\core\\indexes\\range.py:389\u001b[0m, in \u001b[0;36mRangeIndex.get_loc\u001b[1;34m(self, key, method, tolerance)\u001b[0m\n\u001b[0;32m    387\u001b[0m             \u001b[38;5;28;01mraise\u001b[39;00m \u001b[38;5;167;01mKeyError\u001b[39;00m(key) \u001b[38;5;28;01mfrom\u001b[39;00m \u001b[38;5;21;01merr\u001b[39;00m\n\u001b[0;32m    388\u001b[0m     \u001b[38;5;28mself\u001b[39m\u001b[38;5;241m.\u001b[39m_check_indexing_error(key)\n\u001b[1;32m--> 389\u001b[0m     \u001b[38;5;28;01mraise\u001b[39;00m \u001b[38;5;167;01mKeyError\u001b[39;00m(key)\n\u001b[0;32m    390\u001b[0m \u001b[38;5;28;01mreturn\u001b[39;00m \u001b[38;5;28msuper\u001b[39m()\u001b[38;5;241m.\u001b[39mget_loc(key, method\u001b[38;5;241m=\u001b[39mmethod, tolerance\u001b[38;5;241m=\u001b[39mtolerance)\n",
      "\u001b[1;31mKeyError\u001b[0m: 'data.age'"
     ]
    }
   ],
   "source": [
    "q1=data.age\n",
    "out =(data.age['data.age']<(q1-1.5*iqr) or (data.age['data.age']>q3+1.5*iqr))\n",
    "data_cleaned=data.age.drop(data[out].index)\n",
    "print(\"xxxxxxxxxxxx\")\n",
    "print (data_cleaned)\n",
    "data_cleaned.to_excel(\"New_Text.xlsx\",index=Fals)"
   ]
  },
  {
   "cell_type": "code",
   "execution_count": 2,
   "id": "63068567",
   "metadata": {},
   "outputs": [
    {
     "data": {
      "text/html": [
       "<div>\n",
       "<style scoped>\n",
       "    .dataframe tbody tr th:only-of-type {\n",
       "        vertical-align: middle;\n",
       "    }\n",
       "\n",
       "    .dataframe tbody tr th {\n",
       "        vertical-align: top;\n",
       "    }\n",
       "\n",
       "    .dataframe thead th {\n",
       "        text-align: right;\n",
       "    }\n",
       "</style>\n",
       "<table border=\"1\" class=\"dataframe\">\n",
       "  <thead>\n",
       "    <tr style=\"text-align: right;\">\n",
       "      <th></th>\n",
       "      <th>44</th>\n",
       "    </tr>\n",
       "  </thead>\n",
       "  <tbody>\n",
       "    <tr>\n",
       "      <th>0</th>\n",
       "      <td>46</td>\n",
       "    </tr>\n",
       "    <tr>\n",
       "      <th>1</th>\n",
       "      <td>65</td>\n",
       "    </tr>\n",
       "    <tr>\n",
       "      <th>2</th>\n",
       "      <td>63</td>\n",
       "    </tr>\n",
       "    <tr>\n",
       "      <th>3</th>\n",
       "      <td>430</td>\n",
       "    </tr>\n",
       "    <tr>\n",
       "      <th>4</th>\n",
       "      <td>39</td>\n",
       "    </tr>\n",
       "    <tr>\n",
       "      <th>5</th>\n",
       "      <td>410</td>\n",
       "    </tr>\n",
       "    <tr>\n",
       "      <th>6</th>\n",
       "      <td>42</td>\n",
       "    </tr>\n",
       "    <tr>\n",
       "      <th>7</th>\n",
       "      <td>46</td>\n",
       "    </tr>\n",
       "    <tr>\n",
       "      <th>8</th>\n",
       "      <td>550</td>\n",
       "    </tr>\n",
       "    <tr>\n",
       "      <th>9</th>\n",
       "      <td>51</td>\n",
       "    </tr>\n",
       "    <tr>\n",
       "      <th>10</th>\n",
       "      <td>63</td>\n",
       "    </tr>\n",
       "    <tr>\n",
       "      <th>11</th>\n",
       "      <td>45</td>\n",
       "    </tr>\n",
       "    <tr>\n",
       "      <th>12</th>\n",
       "      <td>-44</td>\n",
       "    </tr>\n",
       "    <tr>\n",
       "      <th>13</th>\n",
       "      <td>47</td>\n",
       "    </tr>\n",
       "    <tr>\n",
       "      <th>14</th>\n",
       "      <td>-46</td>\n",
       "    </tr>\n",
       "  </tbody>\n",
       "</table>\n",
       "</div>"
      ],
      "text/plain": [
       "     44\n",
       "0    46\n",
       "1    65\n",
       "2    63\n",
       "3   430\n",
       "4    39\n",
       "5   410\n",
       "6    42\n",
       "7    46\n",
       "8   550\n",
       "9    51\n",
       "10   63\n",
       "11   45\n",
       "12  -44\n",
       "13   47\n",
       "14  -46"
      ]
     },
     "execution_count": 2,
     "metadata": {},
     "output_type": "execute_result"
    }
   ],
   "source": [
    "data=pd.read_excel('Test2.xlsx')\n",
    "data"
   ]
  },
  {
   "cell_type": "code",
   "execution_count": 4,
   "id": "081c8873",
   "metadata": {},
   "outputs": [
    {
     "ename": "KeyError",
     "evalue": "'signal'",
     "output_type": "error",
     "traceback": [
      "\u001b[1;31m---------------------------------------------------------------------------\u001b[0m",
      "\u001b[1;31mKeyError\u001b[0m                                  Traceback (most recent call last)",
      "File \u001b[1;32m~\\anaconda3\\lib\\site-packages\\pandas\\core\\indexes\\base.py:3621\u001b[0m, in \u001b[0;36mIndex.get_loc\u001b[1;34m(self, key, method, tolerance)\u001b[0m\n\u001b[0;32m   3620\u001b[0m \u001b[38;5;28;01mtry\u001b[39;00m:\n\u001b[1;32m-> 3621\u001b[0m     \u001b[38;5;28;01mreturn\u001b[39;00m \u001b[38;5;28;43mself\u001b[39;49m\u001b[38;5;241;43m.\u001b[39;49m\u001b[43m_engine\u001b[49m\u001b[38;5;241;43m.\u001b[39;49m\u001b[43mget_loc\u001b[49m\u001b[43m(\u001b[49m\u001b[43mcasted_key\u001b[49m\u001b[43m)\u001b[49m\n\u001b[0;32m   3622\u001b[0m \u001b[38;5;28;01mexcept\u001b[39;00m \u001b[38;5;167;01mKeyError\u001b[39;00m \u001b[38;5;28;01mas\u001b[39;00m err:\n",
      "File \u001b[1;32m~\\anaconda3\\lib\\site-packages\\pandas\\_libs\\index.pyx:136\u001b[0m, in \u001b[0;36mpandas._libs.index.IndexEngine.get_loc\u001b[1;34m()\u001b[0m\n",
      "File \u001b[1;32m~\\anaconda3\\lib\\site-packages\\pandas\\_libs\\index.pyx:144\u001b[0m, in \u001b[0;36mpandas._libs.index.IndexEngine.get_loc\u001b[1;34m()\u001b[0m\n",
      "File \u001b[1;32mpandas\\_libs\\index_class_helper.pxi:41\u001b[0m, in \u001b[0;36mpandas._libs.index.Int64Engine._check_type\u001b[1;34m()\u001b[0m\n",
      "\u001b[1;31mKeyError\u001b[0m: 'signal'",
      "\nThe above exception was the direct cause of the following exception:\n",
      "\u001b[1;31mKeyError\u001b[0m                                  Traceback (most recent call last)",
      "Input \u001b[1;32mIn [4]\u001b[0m, in \u001b[0;36m<cell line: 1>\u001b[1;34m()\u001b[0m\n\u001b[1;32m----> 1\u001b[0m q1\u001b[38;5;241m=\u001b[39m\u001b[43mdata\u001b[49m\u001b[43m[\u001b[49m\u001b[38;5;124;43m'\u001b[39;49m\u001b[38;5;124;43msignal\u001b[39;49m\u001b[38;5;124;43m'\u001b[39;49m\u001b[43m]\u001b[49m\u001b[38;5;241m.\u001b[39mquantile(\u001b[38;5;241m.25\u001b[39m)\n\u001b[0;32m      2\u001b[0m q3\u001b[38;5;241m=\u001b[39mdata[\u001b[38;5;124m'\u001b[39m\u001b[38;5;124msignal\u001b[39m\u001b[38;5;124m'\u001b[39m]\u001b[38;5;241m.\u001b[39mquantile(\u001b[38;5;241m.75\u001b[39m)\n\u001b[0;32m      3\u001b[0m iqr\u001b[38;5;241m=\u001b[39mq3\u001b[38;5;241m-\u001b[39mq1\n",
      "File \u001b[1;32m~\\anaconda3\\lib\\site-packages\\pandas\\core\\frame.py:3505\u001b[0m, in \u001b[0;36mDataFrame.__getitem__\u001b[1;34m(self, key)\u001b[0m\n\u001b[0;32m   3503\u001b[0m \u001b[38;5;28;01mif\u001b[39;00m \u001b[38;5;28mself\u001b[39m\u001b[38;5;241m.\u001b[39mcolumns\u001b[38;5;241m.\u001b[39mnlevels \u001b[38;5;241m>\u001b[39m \u001b[38;5;241m1\u001b[39m:\n\u001b[0;32m   3504\u001b[0m     \u001b[38;5;28;01mreturn\u001b[39;00m \u001b[38;5;28mself\u001b[39m\u001b[38;5;241m.\u001b[39m_getitem_multilevel(key)\n\u001b[1;32m-> 3505\u001b[0m indexer \u001b[38;5;241m=\u001b[39m \u001b[38;5;28;43mself\u001b[39;49m\u001b[38;5;241;43m.\u001b[39;49m\u001b[43mcolumns\u001b[49m\u001b[38;5;241;43m.\u001b[39;49m\u001b[43mget_loc\u001b[49m\u001b[43m(\u001b[49m\u001b[43mkey\u001b[49m\u001b[43m)\u001b[49m\n\u001b[0;32m   3506\u001b[0m \u001b[38;5;28;01mif\u001b[39;00m is_integer(indexer):\n\u001b[0;32m   3507\u001b[0m     indexer \u001b[38;5;241m=\u001b[39m [indexer]\n",
      "File \u001b[1;32m~\\anaconda3\\lib\\site-packages\\pandas\\core\\indexes\\base.py:3623\u001b[0m, in \u001b[0;36mIndex.get_loc\u001b[1;34m(self, key, method, tolerance)\u001b[0m\n\u001b[0;32m   3621\u001b[0m     \u001b[38;5;28;01mreturn\u001b[39;00m \u001b[38;5;28mself\u001b[39m\u001b[38;5;241m.\u001b[39m_engine\u001b[38;5;241m.\u001b[39mget_loc(casted_key)\n\u001b[0;32m   3622\u001b[0m \u001b[38;5;28;01mexcept\u001b[39;00m \u001b[38;5;167;01mKeyError\u001b[39;00m \u001b[38;5;28;01mas\u001b[39;00m err:\n\u001b[1;32m-> 3623\u001b[0m     \u001b[38;5;28;01mraise\u001b[39;00m \u001b[38;5;167;01mKeyError\u001b[39;00m(key) \u001b[38;5;28;01mfrom\u001b[39;00m \u001b[38;5;21;01merr\u001b[39;00m\n\u001b[0;32m   3624\u001b[0m \u001b[38;5;28;01mexcept\u001b[39;00m \u001b[38;5;167;01mTypeError\u001b[39;00m:\n\u001b[0;32m   3625\u001b[0m     \u001b[38;5;66;03m# If we have a listlike key, _check_indexing_error will raise\u001b[39;00m\n\u001b[0;32m   3626\u001b[0m     \u001b[38;5;66;03m#  InvalidIndexError. Otherwise we fall through and re-raise\u001b[39;00m\n\u001b[0;32m   3627\u001b[0m     \u001b[38;5;66;03m#  the TypeError.\u001b[39;00m\n\u001b[0;32m   3628\u001b[0m     \u001b[38;5;28mself\u001b[39m\u001b[38;5;241m.\u001b[39m_check_indexing_error(key)\n",
      "\u001b[1;31mKeyError\u001b[0m: 'signal'"
     ]
    }
   ],
   "source": [
    "q1=data['signal'].quantile(.25)\n",
    "q3=data['signal'].quantile(.75)\n",
    "iqr=q3-q1\n",
    "out =(data['signal']<(q1-1.5*iqr) or (data['signal']>q3+1.5*iqr))\n",
    "data_cleaned=data.drop(data[out].index)\n",
    "print(\"xxxxxxxxxxxx\")\n",
    "print (data_cleaned)\n",
    "data_cleaned.to_excel(\"New_Text.xlsx\",index=Fals)"
   ]
  },
  {
   "cell_type": "code",
   "execution_count": 10,
   "id": "b8f9a019",
   "metadata": {},
   "outputs": [
    {
     "data": {
      "text/plain": [
       "{'dataage': [0      44\n",
       "  1      46\n",
       "  2      65\n",
       "  3      63\n",
       "  4     430\n",
       "  5      39\n",
       "  6     410\n",
       "  7      42\n",
       "  8      46\n",
       "  9     550\n",
       "  10     51\n",
       "  11     63\n",
       "  12     45\n",
       "  13    -44\n",
       "  14     47\n",
       "  15    -46\n",
       "  Name: age, dtype: int64]}"
      ]
     },
     "execution_count": 10,
     "metadata": {},
     "output_type": "execute_result"
    }
   ],
   "source": [
    "data_l={'dataage':[data.age]}\n",
    "data_l"
   ]
  },
  {
   "cell_type": "code",
   "execution_count": 11,
   "id": "32c2e14d",
   "metadata": {},
   "outputs": [
    {
     "ename": "ValueError",
     "evalue": "The truth value of a Series is ambiguous. Use a.empty, a.bool(), a.item(), a.any() or a.all().",
     "output_type": "error",
     "traceback": [
      "\u001b[1;31m---------------------------------------------------------------------------\u001b[0m",
      "\u001b[1;31mValueError\u001b[0m                                Traceback (most recent call last)",
      "Input \u001b[1;32mIn [11]\u001b[0m, in \u001b[0;36m<cell line: 4>\u001b[1;34m()\u001b[0m\n\u001b[0;32m      2\u001b[0m q1 , q3 \u001b[38;5;241m=\u001b[39m np\u001b[38;5;241m.\u001b[39mpercentile(data\u001b[38;5;241m.\u001b[39mage, [\u001b[38;5;241m25\u001b[39m,\u001b[38;5;241m75\u001b[39m])\n\u001b[0;32m      3\u001b[0m iqr\u001b[38;5;241m=\u001b[39mq3\u001b[38;5;241m-\u001b[39mq1\n\u001b[1;32m----> 4\u001b[0m out \u001b[38;5;241m=\u001b[39m(\u001b[43mdf\u001b[49m\u001b[43m[\u001b[49m\u001b[38;5;124;43m'\u001b[39;49m\u001b[38;5;124;43mdataage\u001b[39;49m\u001b[38;5;124;43m'\u001b[39;49m\u001b[43m]\u001b[49m\u001b[38;5;241;43m<\u001b[39;49m\u001b[43m(\u001b[49m\u001b[43mq1\u001b[49m\u001b[38;5;241;43m-\u001b[39;49m\u001b[38;5;241;43m1.5\u001b[39;49m\u001b[38;5;241;43m*\u001b[39;49m\u001b[43miqr\u001b[49m\u001b[43m)\u001b[49m \u001b[38;5;129;01mor\u001b[39;00m (df[\u001b[38;5;124m'\u001b[39m\u001b[38;5;124mdataage\u001b[39m\u001b[38;5;124m'\u001b[39m]\u001b[38;5;241m>\u001b[39mq3\u001b[38;5;241m+\u001b[39m\u001b[38;5;241m1.5\u001b[39m\u001b[38;5;241m*\u001b[39miqr))\n\u001b[0;32m      5\u001b[0m df_cleaned\u001b[38;5;241m=\u001b[39m  df\u001b[38;5;241m.\u001b[39mdrop(df[out]\u001b[38;5;241m.\u001b[39mindex)\n\u001b[0;32m      6\u001b[0m \u001b[38;5;28mprint\u001b[39m(\u001b[38;5;124m\"\u001b[39m\u001b[38;5;124mداده های تمیز شده\u001b[39m\u001b[38;5;124m\"\u001b[39m)\n",
      "File \u001b[1;32m~\\anaconda3\\lib\\site-packages\\pandas\\core\\ops\\common.py:70\u001b[0m, in \u001b[0;36m_unpack_zerodim_and_defer.<locals>.new_method\u001b[1;34m(self, other)\u001b[0m\n\u001b[0;32m     66\u001b[0m             \u001b[38;5;28;01mreturn\u001b[39;00m \u001b[38;5;28mNotImplemented\u001b[39m\n\u001b[0;32m     68\u001b[0m other \u001b[38;5;241m=\u001b[39m item_from_zerodim(other)\n\u001b[1;32m---> 70\u001b[0m \u001b[38;5;28;01mreturn\u001b[39;00m \u001b[43mmethod\u001b[49m\u001b[43m(\u001b[49m\u001b[38;5;28;43mself\u001b[39;49m\u001b[43m,\u001b[49m\u001b[43m \u001b[49m\u001b[43mother\u001b[49m\u001b[43m)\u001b[49m\n",
      "File \u001b[1;32m~\\anaconda3\\lib\\site-packages\\pandas\\core\\arraylike.py:48\u001b[0m, in \u001b[0;36mOpsMixin.__lt__\u001b[1;34m(self, other)\u001b[0m\n\u001b[0;32m     46\u001b[0m \u001b[38;5;129m@unpack_zerodim_and_defer\u001b[39m(\u001b[38;5;124m\"\u001b[39m\u001b[38;5;124m__lt__\u001b[39m\u001b[38;5;124m\"\u001b[39m)\n\u001b[0;32m     47\u001b[0m \u001b[38;5;28;01mdef\u001b[39;00m \u001b[38;5;21m__lt__\u001b[39m(\u001b[38;5;28mself\u001b[39m, other):\n\u001b[1;32m---> 48\u001b[0m     \u001b[38;5;28;01mreturn\u001b[39;00m \u001b[38;5;28;43mself\u001b[39;49m\u001b[38;5;241;43m.\u001b[39;49m\u001b[43m_cmp_method\u001b[49m\u001b[43m(\u001b[49m\u001b[43mother\u001b[49m\u001b[43m,\u001b[49m\u001b[43m \u001b[49m\u001b[43moperator\u001b[49m\u001b[38;5;241;43m.\u001b[39;49m\u001b[43mlt\u001b[49m\u001b[43m)\u001b[49m\n",
      "File \u001b[1;32m~\\anaconda3\\lib\\site-packages\\pandas\\core\\series.py:5623\u001b[0m, in \u001b[0;36mSeries._cmp_method\u001b[1;34m(self, other, op)\u001b[0m\n\u001b[0;32m   5620\u001b[0m rvalues \u001b[38;5;241m=\u001b[39m extract_array(other, extract_numpy\u001b[38;5;241m=\u001b[39m\u001b[38;5;28;01mTrue\u001b[39;00m, extract_range\u001b[38;5;241m=\u001b[39m\u001b[38;5;28;01mTrue\u001b[39;00m)\n\u001b[0;32m   5622\u001b[0m \u001b[38;5;28;01mwith\u001b[39;00m np\u001b[38;5;241m.\u001b[39merrstate(\u001b[38;5;28mall\u001b[39m\u001b[38;5;241m=\u001b[39m\u001b[38;5;124m\"\u001b[39m\u001b[38;5;124mignore\u001b[39m\u001b[38;5;124m\"\u001b[39m):\n\u001b[1;32m-> 5623\u001b[0m     res_values \u001b[38;5;241m=\u001b[39m \u001b[43mops\u001b[49m\u001b[38;5;241;43m.\u001b[39;49m\u001b[43mcomparison_op\u001b[49m\u001b[43m(\u001b[49m\u001b[43mlvalues\u001b[49m\u001b[43m,\u001b[49m\u001b[43m \u001b[49m\u001b[43mrvalues\u001b[49m\u001b[43m,\u001b[49m\u001b[43m \u001b[49m\u001b[43mop\u001b[49m\u001b[43m)\u001b[49m\n\u001b[0;32m   5625\u001b[0m \u001b[38;5;28;01mreturn\u001b[39;00m \u001b[38;5;28mself\u001b[39m\u001b[38;5;241m.\u001b[39m_construct_result(res_values, name\u001b[38;5;241m=\u001b[39mres_name)\n",
      "File \u001b[1;32m~\\anaconda3\\lib\\site-packages\\pandas\\core\\ops\\array_ops.py:283\u001b[0m, in \u001b[0;36mcomparison_op\u001b[1;34m(left, right, op)\u001b[0m\n\u001b[0;32m    280\u001b[0m     \u001b[38;5;28;01mreturn\u001b[39;00m invalid_comparison(lvalues, rvalues, op)\n\u001b[0;32m    282\u001b[0m \u001b[38;5;28;01melif\u001b[39;00m is_object_dtype(lvalues\u001b[38;5;241m.\u001b[39mdtype) \u001b[38;5;129;01mor\u001b[39;00m \u001b[38;5;28misinstance\u001b[39m(rvalues, \u001b[38;5;28mstr\u001b[39m):\n\u001b[1;32m--> 283\u001b[0m     res_values \u001b[38;5;241m=\u001b[39m \u001b[43mcomp_method_OBJECT_ARRAY\u001b[49m\u001b[43m(\u001b[49m\u001b[43mop\u001b[49m\u001b[43m,\u001b[49m\u001b[43m \u001b[49m\u001b[43mlvalues\u001b[49m\u001b[43m,\u001b[49m\u001b[43m \u001b[49m\u001b[43mrvalues\u001b[49m\u001b[43m)\u001b[49m\n\u001b[0;32m    285\u001b[0m \u001b[38;5;28;01melse\u001b[39;00m:\n\u001b[0;32m    286\u001b[0m     res_values \u001b[38;5;241m=\u001b[39m _na_arithmetic_op(lvalues, rvalues, op, is_cmp\u001b[38;5;241m=\u001b[39m\u001b[38;5;28;01mTrue\u001b[39;00m)\n",
      "File \u001b[1;32m~\\anaconda3\\lib\\site-packages\\pandas\\core\\ops\\array_ops.py:73\u001b[0m, in \u001b[0;36mcomp_method_OBJECT_ARRAY\u001b[1;34m(op, x, y)\u001b[0m\n\u001b[0;32m     71\u001b[0m     result \u001b[38;5;241m=\u001b[39m libops\u001b[38;5;241m.\u001b[39mvec_compare(x\u001b[38;5;241m.\u001b[39mravel(), y\u001b[38;5;241m.\u001b[39mravel(), op)\n\u001b[0;32m     72\u001b[0m \u001b[38;5;28;01melse\u001b[39;00m:\n\u001b[1;32m---> 73\u001b[0m     result \u001b[38;5;241m=\u001b[39m \u001b[43mlibops\u001b[49m\u001b[38;5;241;43m.\u001b[39;49m\u001b[43mscalar_compare\u001b[49m\u001b[43m(\u001b[49m\u001b[43mx\u001b[49m\u001b[38;5;241;43m.\u001b[39;49m\u001b[43mravel\u001b[49m\u001b[43m(\u001b[49m\u001b[43m)\u001b[49m\u001b[43m,\u001b[49m\u001b[43m \u001b[49m\u001b[43my\u001b[49m\u001b[43m,\u001b[49m\u001b[43m \u001b[49m\u001b[43mop\u001b[49m\u001b[43m)\u001b[49m\n\u001b[0;32m     74\u001b[0m \u001b[38;5;28;01mreturn\u001b[39;00m result\u001b[38;5;241m.\u001b[39mreshape(x\u001b[38;5;241m.\u001b[39mshape)\n",
      "File \u001b[1;32m~\\anaconda3\\lib\\site-packages\\pandas\\_libs\\ops.pyx:107\u001b[0m, in \u001b[0;36mpandas._libs.ops.scalar_compare\u001b[1;34m()\u001b[0m\n",
      "File \u001b[1;32m~\\anaconda3\\lib\\site-packages\\pandas\\core\\generic.py:1527\u001b[0m, in \u001b[0;36mNDFrame.__nonzero__\u001b[1;34m(self)\u001b[0m\n\u001b[0;32m   1525\u001b[0m \u001b[38;5;129m@final\u001b[39m\n\u001b[0;32m   1526\u001b[0m \u001b[38;5;28;01mdef\u001b[39;00m \u001b[38;5;21m__nonzero__\u001b[39m(\u001b[38;5;28mself\u001b[39m):\n\u001b[1;32m-> 1527\u001b[0m     \u001b[38;5;28;01mraise\u001b[39;00m \u001b[38;5;167;01mValueError\u001b[39;00m(\n\u001b[0;32m   1528\u001b[0m         \u001b[38;5;124mf\u001b[39m\u001b[38;5;124m\"\u001b[39m\u001b[38;5;124mThe truth value of a \u001b[39m\u001b[38;5;132;01m{\u001b[39;00m\u001b[38;5;28mtype\u001b[39m(\u001b[38;5;28mself\u001b[39m)\u001b[38;5;241m.\u001b[39m\u001b[38;5;18m__name__\u001b[39m\u001b[38;5;132;01m}\u001b[39;00m\u001b[38;5;124m is ambiguous. \u001b[39m\u001b[38;5;124m\"\u001b[39m\n\u001b[0;32m   1529\u001b[0m         \u001b[38;5;124m\"\u001b[39m\u001b[38;5;124mUse a.empty, a.bool(), a.item(), a.any() or a.all().\u001b[39m\u001b[38;5;124m\"\u001b[39m\n\u001b[0;32m   1530\u001b[0m     )\n",
      "\u001b[1;31mValueError\u001b[0m: The truth value of a Series is ambiguous. Use a.empty, a.bool(), a.item(), a.any() or a.all()."
     ]
    }
   ],
   "source": [
    "df=pd.DataFrame(data_l)\n",
    "q1 , q3 = np.percentile(data.age, [25,75])\n",
    "iqr=q3-q1\n",
    "out =(df['dataage']<(q1-1.5*iqr) or (df['dataage']>q3+1.5*iqr))\n",
    "df_cleaned=  df.drop(df[out].index)\n",
    "print(\"داده های تمیز شده\")\n",
    "print(df_cleaned)"
   ]
  },
  {
   "cell_type": "code",
   "execution_count": null,
   "id": "9e96644d",
   "metadata": {},
   "outputs": [],
   "source": []
  }
 ],
 "metadata": {
  "kernelspec": {
   "display_name": "Python 3 (ipykernel)",
   "language": "python",
   "name": "python3"
  },
  "language_info": {
   "codemirror_mode": {
    "name": "ipython",
    "version": 3
   },
   "file_extension": ".py",
   "mimetype": "text/x-python",
   "name": "python",
   "nbconvert_exporter": "python",
   "pygments_lexer": "ipython3",
   "version": "3.9.12"
  }
 },
 "nbformat": 4,
 "nbformat_minor": 5
}
